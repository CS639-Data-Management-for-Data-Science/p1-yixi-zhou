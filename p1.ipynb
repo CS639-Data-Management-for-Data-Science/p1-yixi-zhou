{
 "cells": [
  {
   "cell_type": "markdown",
   "metadata": {},
   "source": [
    "# Project1"
   ]
  },
  {
   "cell_type": "markdown",
   "metadata": {},
   "source": [
    "## Set up `Chinook` database"
   ]
  },
  {
   "cell_type": "code",
   "execution_count": 2,
   "metadata": {},
   "outputs": [],
   "source": [
    "%%bash\n",
    "rm Chinook.zip"
   ]
  },
  {
   "cell_type": "code",
   "execution_count": 4,
   "metadata": {},
   "outputs": [],
   "source": [
    "%%bash\n",
    "rm *.csv"
   ]
  },
  {
   "cell_type": "code",
   "execution_count": 5,
   "metadata": {},
   "outputs": [
    {
     "name": "stderr",
     "output_type": "stream",
     "text": [
      "--2025-02-04 06:07:47--  https://github.com/CS639-Data-Management-for-Data-Science/s25/raw/main/p1/Chinook.zip\n",
      "Resolving github.com (github.com)... 140.82.113.3\n",
      "Connecting to github.com (github.com)|140.82.113.3|:443... connected.\n",
      "HTTP request sent, awaiting response... 302 Found\n",
      "Location: https://raw.githubusercontent.com/CS639-Data-Management-for-Data-Science/s25/main/p1/Chinook.zip [following]\n",
      "--2025-02-04 06:07:48--  https://raw.githubusercontent.com/CS639-Data-Management-for-Data-Science/s25/main/p1/Chinook.zip\n",
      "Resolving raw.githubusercontent.com (raw.githubusercontent.com)... 185.199.109.133, 185.199.111.133, 185.199.108.133, ...\n",
      "Connecting to raw.githubusercontent.com (raw.githubusercontent.com)|185.199.109.133|:443... connected.\n",
      "HTTP request sent, awaiting response... 200 OK\n",
      "Length: 146381 (143K) [application/zip]\n",
      "Saving to: ‘Chinook.zip’\n",
      "\n",
      "     0K .......... .......... .......... .......... .......... 34% 4.17M 0s\n",
      "    50K .......... .......... .......... .......... .......... 69% 12.7M 0s\n",
      "   100K .......... .......... .......... .......... ..        100% 6.12M=0.02s\n",
      "\n",
      "2025-02-04 06:07:48 (6.24 MB/s) - ‘Chinook.zip’ saved [146381/146381]\n",
      "\n"
     ]
    }
   ],
   "source": [
    "%%bash\n",
    "wget https://github.com/CS639-Data-Management-for-Data-Science/s25/raw/main/p1/Chinook.zip"
   ]
  },
  {
   "cell_type": "code",
   "execution_count": 6,
   "metadata": {},
   "outputs": [
    {
     "name": "stdout",
     "output_type": "stream",
     "text": [
      "Archive:  Chinook.zip\n",
      "  inflating: Album.csv               \n",
      "  inflating: Artist.csv              \n",
      "  inflating: Customer.csv            \n",
      "  inflating: Employee.csv            \n",
      "  inflating: Genre.csv               \n",
      "  inflating: Invoice.csv             \n",
      "  inflating: InvoiceLine.csv         \n",
      "  inflating: MediaType.csv           \n",
      "  inflating: Playlist.csv            \n",
      "  inflating: PlaylistTrack.csv       \n",
      "  inflating: Track.csv               \n"
     ]
    }
   ],
   "source": [
    "%%bash\n",
    "unzip Chinook.zip"
   ]
  },
  {
   "cell_type": "markdown",
   "metadata": {},
   "source": [
    "## Loading ```Chinook``` database"
   ]
  },
  {
   "cell_type": "code",
   "execution_count": 12,
   "metadata": {},
   "outputs": [],
   "source": [
    "import pandas as pd\n",
    "from sqlalchemy import create_engine\n",
    "import pymysql\n",
    "import os\n"
   ]
  },
  {
   "cell_type": "code",
   "execution_count": 9,
   "metadata": {},
   "outputs": [
    {
     "data": {
      "text/plain": [
       "'\\ndocker run --name <container-name> \\n-d -p 127.0.0.1:3306:3306 \\n-e MYSQL_DATABASE=Chinook \\n-e MYSQL_ROOT_PASSWORD=123456 mysql\\n'"
      ]
     },
     "execution_count": 9,
     "metadata": {},
     "output_type": "execute_result"
    }
   ],
   "source": [
    "'''\n",
    "docker run --name <container-name> \n",
    "-d -p 127.0.0.1:3306:3306 \n",
    "-e MYSQL_DATABASE=Chinook \n",
    "-e MYSQL_ROOT_PASSWORD=123456 mysql\n",
    "'''"
   ]
  },
  {
   "cell_type": "code",
   "execution_count": 13,
   "metadata": {},
   "outputs": [],
   "source": [
    "username = 'root'                \n",
    "password = '123456'              \n",
    "host = '127.0.0.1'               \n",
    "database = 'Chinook'             \n",
    "connection_string = f\"mysql+pymysql://{username}:{password}@{host}/{database}\"\n",
    "engine = create_engine(connection_string)"
   ]
  },
  {
   "cell_type": "code",
   "execution_count": null,
   "metadata": {},
   "outputs": [],
   "source": [
    "all_csv_file_list = "
   ]
  }
 ],
 "metadata": {
  "kernelspec": {
   "display_name": "zhou",
   "language": "python",
   "name": "python3"
  },
  "language_info": {
   "codemirror_mode": {
    "name": "ipython",
    "version": 3
   },
   "file_extension": ".py",
   "mimetype": "text/x-python",
   "name": "python",
   "nbconvert_exporter": "python",
   "pygments_lexer": "ipython3",
   "version": "3.9.11"
  }
 },
 "nbformat": 4,
 "nbformat_minor": 2
}
